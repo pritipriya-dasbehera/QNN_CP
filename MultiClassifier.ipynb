{
 "cells": [
  {
   "cell_type": "markdown",
   "metadata": {},
   "source": [
    "### Imports"
   ]
  },
  {
   "cell_type": "code",
   "execution_count": 1,
   "metadata": {},
   "outputs": [],
   "source": [
    "import numpy as np\n",
    "import matplotlib.pyplot as plt\n",
    "import torch\n",
    "from torch.autograd import Function\n",
    "from torchvision import datasets, transforms\n",
    "import torch.optim as optim\n",
    "import torch.nn as nn\n",
    "import torch.nn.functional as F\n",
    "import qiskit\n",
    "from qiskit_aer import AerSimulator\n",
    "from qiskit import transpile, assemble\n",
    "from qiskit.visualization import *\n",
    "\n",
    "import warnings\n",
    "warnings.filterwarnings('ignore', category=DeprecationWarning)"
   ]
  },
  {
   "cell_type": "code",
   "execution_count": 2,
   "metadata": {},
   "outputs": [],
   "source": [
    "# Get the datasets and reduce it\n",
    "mask1 = list(i for i in range(0,5000))\n",
    "mask2 = list(i for i in range(0,200))\n",
    "\n",
    "train_dataset_full = datasets.MNIST(root='./data', \n",
    "                            train=True, \n",
    "                            transform=transforms.ToTensor(),\n",
    "                            download=True)\n",
    "train_dataset = torch.utils.data.Subset(train_dataset_full,mask1)\n",
    "test_dataset_full = datasets.MNIST(root='./data',\n",
    "                           train=False, \n",
    "                           transform=transforms.ToTensor())\n",
    "test_dataset = torch.utils.data.Subset(test_dataset_full,mask2)"
   ]
  },
  {
   "cell_type": "code",
   "execution_count": 3,
   "metadata": {},
   "outputs": [],
   "source": [
    "# Make the dataloaders\n",
    "batch_size = 500\n",
    "# n_iters = 1000\n",
    "# num_epochs = n_iters / (len(train_dataset) / batch_size)\n",
    "# num_epochs = int(num_epochs)\n",
    "num_epochs = 50\n",
    "train_loader = torch.utils.data.DataLoader(dataset=train_dataset_full, \n",
    "                                           batch_size=batch_size, \n",
    "                                           shuffle=True)\n",
    "\n",
    "test_loader = torch.utils.data.DataLoader(dataset=test_dataset, \n",
    "                                          batch_size=batch_size, \n",
    "                                          shuffle=True)\n",
    "test_loader_full = torch.utils.data.DataLoader(dataset=test_dataset_full, \n",
    "                                          batch_size=batch_size, \n",
    "                                          shuffle=True)                                                "
   ]
  },
  {
   "cell_type": "markdown",
   "metadata": {},
   "source": [
    "### Build Quantum circuits"
   ]
  },
  {
   "cell_type": "code",
   "execution_count": 4,
   "metadata": {},
   "outputs": [],
   "source": [
    "class NewQuantumCircuit:\n",
    "    \"\"\" \n",
    "    This class provides a simple interface for interaction \n",
    "    with the quantum circuit \n",
    "    \"\"\"\n",
    "    def __init__(self, n_qubits, backend, shots):\n",
    "        # --- Circuit definition ---\n",
    "        self._circuit = qiskit.QuantumCircuit(n_qubits)\n",
    "        all_qubits = [i for i in range(n_qubits)]\n",
    "        self.theta = qiskit.circuit.Parameter('theta')\n",
    "        self._circuit.h(all_qubits)\n",
    "        self._circuit.barrier()\n",
    "        self._circuit.ry(self.theta, all_qubits)\n",
    "        self._circuit.measure_all()\n",
    "        # ---------------------------\n",
    "        self.backend = backend\n",
    "        self.shots = shots\n",
    "\n",
    "    def run(self, thetas):\n",
    "        t_qc = transpile(self._circuit,\n",
    "                            self.backend)\n",
    "        qobj = assemble(t_qc,\n",
    "                        shots=self.shots,\n",
    "                        parameter_binds = [{self.theta: theta} for theta in thetas])\n",
    "        job = self.backend.run(qobj)\n",
    "        result = job.result().get_counts()\n",
    "        expectlist = []\n",
    "        for dictionary in list(result):\n",
    "            if '1' in dictionary.keys():\n",
    "                expectlist.append(dictionary['1']/self.shots)\n",
    "            else:\n",
    "                expectlist.append(0.0)\n",
    "        return np.array(expectlist)\n",
    "        # # print(job.result().data())\n",
    "        # # counts = np.array(list(result.values() for result in results))\n",
    "        # counts = np.array(list(result.values()))\n",
    "        # # print(counts)\n",
    "        # states = np.array(list(result.keys())).astype(float)\n",
    "        # # print(states)\n",
    "        # # Compute probabilities for each state\n",
    "        # probabilities = counts / self.shots\n",
    "        # # Get state expectation\n",
    "        # expectation = np.sum(states * probabilities)\n",
    "        # return np.array([expectation])"
   ]
  },
  {
   "cell_type": "code",
   "execution_count": 5,
   "metadata": {},
   "outputs": [
    {
     "name": "stdout",
     "output_type": "stream",
     "text": [
      "Expected value for rotation pi [0.4 1. ]\n"
     ]
    },
    {
     "data": {
      "text/html": [
       "<pre style=\"word-wrap: normal;white-space: pre;background: #fff0;line-height: 1.1;font-family: &quot;Courier New&quot;,Courier,monospace\">        ┌───┐ ░ ┌───────────┐ ░ ┌─┐\n",
       "     q: ┤ H ├─░─┤ Ry(theta) ├─░─┤M├\n",
       "        └───┘ ░ └───────────┘ ░ └╥┘\n",
       "meas: 1/═════════════════════════╩═\n",
       "                                 0 </pre>"
      ],
      "text/plain": [
       "        ┌───┐ ░ ┌───────────┐ ░ ┌─┐\n",
       "     q: ┤ H ├─░─┤ Ry(theta) ├─░─┤M├\n",
       "        └───┘ ░ └───────────┘ ░ └╥┘\n",
       "meas: 1/═════════════════════════╩═\n",
       "                                 0 "
      ]
     },
     "execution_count": 5,
     "metadata": {},
     "output_type": "execute_result"
    }
   ],
   "source": [
    "simulator = qiskit.Aer.get_backend('aer_simulator',method='matrix_product_state')\n",
    "\n",
    "circuit = NewQuantumCircuit(1, simulator, 10)\n",
    "print('Expected value for rotation pi {}'.format(circuit.run([np.pi,np.pi/2])))\n",
    "circuit._circuit.draw()"
   ]
  },
  {
   "cell_type": "code",
   "execution_count": 6,
   "metadata": {},
   "outputs": [],
   "source": [
    "class HybridFunction(Function):\n",
    "    \"\"\" Hybrid quantum - classical function definition \"\"\"\n",
    "    @staticmethod\n",
    "    def forward(ctx, input, quantum_circuit, shift):\n",
    "        \"\"\" Forward pass computation \"\"\"\n",
    "        ctx.shift = shift\n",
    "        ctx.quantum_circuit = quantum_circuit\n",
    "        expectation_z = []\n",
    "        for thetas in input:\n",
    "            res = ctx.quantum_circuit.run(thetas.tolist())\n",
    "            expectation_z.append(res)\n",
    "        # expectation_z = ctx.quantum_circuit.run(input[0].tolist())\n",
    "        resultnp = np.array(expectation_z)\n",
    "        result = torch.tensor(resultnp)\n",
    "        ctx.save_for_backward(input, result)\n",
    "        return result\n",
    "\n",
    "        # inputnp = np.array(input)\n",
    "        # ctx.save_for_backward(input)\n",
    "        # result = torch.tensor((np.sin(np.pi/4 + inputnp/2.0))**2)\n",
    "        # return result\n",
    "    @staticmethod\n",
    "    def backward(ctx, grad_output):\n",
    "        \"\"\" Backward pass computation \"\"\"\n",
    "        input, expectation_z = ctx.saved_tensors\n",
    "        gradients = []\n",
    "        for thetas in input:\n",
    "            shift_right = thetas.tolist() + np.ones(thetas.shape) * ctx.shift\n",
    "            shift_left = thetas.tolist() - np.ones(thetas.shape) * ctx.shift\n",
    "\n",
    "            exp_right = ctx.quantum_circuit.run(shift_right)\n",
    "            exp_left = ctx.quantum_circuit.run(shift_left)\n",
    "            gradients.append(exp_right-exp_left)\n",
    "        gradnp = np.array(gradients)\n",
    "        return torch.tensor(gradnp).float() * grad_output.float(), None, None\n",
    "\n",
    "        # input = ctx.saved_tensors\n",
    "        # inputnp = np.array(input)\n",
    "        # grad = torch.tensor(np.sin(np.pi/2 + inputnp))\n",
    "        # return grad*grad_output.float(), None, None\n",
    "\n",
    "class Hybrid(nn.Module):\n",
    "    \"\"\" Hybrid quantum - classical layer definition \"\"\"\n",
    "    def __init__(self, backend, shots, shift):\n",
    "        super(Hybrid, self).__init__()\n",
    "        self.quantum_circuit = NewQuantumCircuit(1, backend, shots)\n",
    "        self.shift = shift\n",
    "    def forward(self, input):\n",
    "        return HybridFunction.apply(input, self.quantum_circuit, self.shift)"
   ]
  },
  {
   "cell_type": "code",
   "execution_count": 7,
   "metadata": {},
   "outputs": [],
   "source": [
    "# The model to be used for training\n",
    "channels = [1,16,32] #editable\n",
    "channels.append(512*(channels[2]//32)) #Do not edit\n",
    "channels += [256,10] #editable"
   ]
  },
  {
   "cell_type": "code",
   "execution_count": 8,
   "metadata": {},
   "outputs": [],
   "source": [
    "class CNNModel(nn.Module):\n",
    "    def __init__(self):\n",
    "        super(CNNModel, self).__init__()\n",
    "\n",
    "        # Convolution 1\n",
    "        self.cnn1 = nn.Conv2d(in_channels=1, out_channels=16, kernel_size=5, stride=1, padding=2)\n",
    "        # self.cnn1 = nn.Conv2d(in_channels=channels[0], out_channels=channels[1], kernel_size=5)\n",
    "        self.relu = nn.ReLU()\n",
    "\n",
    "        # Max pool 1\n",
    "        self.maxpool1 = nn.MaxPool2d(kernel_size=2)\n",
    "\n",
    "        # Dropout\n",
    "        self.dropout = nn.Dropout2d()\n",
    "\n",
    "        # Convolution 2\n",
    "        self.cnn2 = nn.Conv2d(in_channels=16, out_channels=32, kernel_size=5, stride=1, padding=2)\n",
    "        # self.cnn2 = nn.Conv2d(in_channels=channels[1], out_channels=channels[2], kernel_size=5)\n",
    "        # self.relu2 = nn.ReLU()\n",
    "\n",
    "        # Max pool 2\n",
    "        self.maxpool2 = nn.MaxPool2d(kernel_size=2)\n",
    "\n",
    "        # Linear 1\n",
    "        self.fc1 = nn.Linear(32*7*7, 256)\n",
    "        # self.fc1 = nn.Linear(channels[3],channels[4])\n",
    "\n",
    "        # Linear 2\n",
    "        self.fc2 = nn.Linear(256, 10)\n",
    "        # self.fc2 = nn.Linear(channels[4],channels[5])\n",
    "\n",
    "        # Quantum out\n",
    "        self.hybrid = Hybrid(qiskit.Aer.get_backend('aer_simulator', method='matrix_product_state'), 1000, 0.1)\n",
    "\n",
    "        # Tanh\n",
    "        self.tanh = nn.Tanh()\n",
    "\n",
    "    def forward(self, x):\n",
    "        # Convolution 1\n",
    "        out = self.cnn1(x)\n",
    "        out = self.tanh(out)\n",
    "\n",
    "        # Max pool 1\n",
    "        out = self.maxpool1(out)\n",
    "\n",
    "        # Convolution 2 \n",
    "        out = self.cnn2(out)\n",
    "        out = self.tanh(out)\n",
    "\n",
    "        # Max pool 2 \n",
    "        out = self.maxpool2(out)\n",
    "        # print(out.shape)\n",
    "\n",
    "        # Dropout\n",
    "        out = self.dropout(out)\n",
    "\n",
    "        # Resize\n",
    "        # Original size: (100, 32, 7, 7)\n",
    "        # out.size(0): 100\n",
    "        # New out size: (100, 32*7*7)\n",
    "        # out = out.view(-1, 8*4*4)\n",
    "        out = out.view(out.size(0), -1)\n",
    "        # print(out.shape)\n",
    "\n",
    "        # Linear function (readout)\n",
    "        out = self.fc1(out)\n",
    "        out = self.relu(out)\n",
    "        out = self.fc2(out)\n",
    "\n",
    "        # Quantum out\n",
    "        # print(out.shape)\n",
    "        out = (np.pi/2) * self.tanh(out)\n",
    "        out = self.hybrid(out)\n",
    "        # print(out.shape)\n",
    "        return out"
   ]
  },
  {
   "cell_type": "markdown",
   "metadata": {},
   "source": [
    "### Train"
   ]
  },
  {
   "cell_type": "code",
   "execution_count": 10,
   "metadata": {},
   "outputs": [],
   "source": [
    "model = CNNModel()\n",
    "lossfn = nn.CrossEntropyLoss()\n",
    "\n",
    "# learning_rate = 0.1\n",
    "# optimizer = torch.optim.Adam(model.parameters(), lr=learning_rate) \n",
    "\n",
    "# scheduler = torch.optim.ExponentialLR(optimizer, gamma=0.1)\n",
    "\n",
    "optimizer = torch.optim.Adam(model.parameters(), lr=0.0005)\n",
    "scheduler = torch.optim.lr_scheduler.ReduceLROnPlateau(\n",
    "    optimizer, factor=0.2, patience=5, verbose=True\n",
    ")"
   ]
  },
  {
   "cell_type": "code",
   "execution_count": 11,
   "metadata": {},
   "outputs": [
    {
     "name": "stdout",
     "output_type": "stream",
     "text": [
      "Iteration: 10. Loss: 2.0608282205857664. Accuracy: 76.0\n",
      "Iteration: 20. Loss: 1.7832054565048372. Accuracy: 83.0\n",
      "Iteration: 30. Loss: 1.688515861838918. Accuracy: 84.0\n",
      "Iteration: 40. Loss: 1.6183117246817287. Accuracy: 90.0\n",
      "Iteration: 50. Loss: 1.6050047038743778. Accuracy: 89.5\n",
      "Iteration: 60. Loss: 1.5831725278377855. Accuracy: 92.0\n",
      "Iteration: 70. Loss: 1.5771767968286552. Accuracy: 93.5\n",
      "Iteration: 80. Loss: 1.5775882378111301. Accuracy: 93.5\n",
      "Iteration: 90. Loss: 1.5577260457677247. Accuracy: 95.5\n",
      "Iteration: 100. Loss: 1.5683525395534479. Accuracy: 95.5\n",
      "Iteration: 110. Loss: 1.5339572065182012. Accuracy: 96.0\n",
      "Iteration: 120. Loss: 1.5517861908459494. Accuracy: 95.0\n",
      "Iteration: 130. Loss: 1.5339886829538616. Accuracy: 96.5\n",
      "Iteration: 140. Loss: 1.5442980712032346. Accuracy: 97.5\n",
      "Iteration: 150. Loss: 1.534608617709038. Accuracy: 97.0\n",
      "Iteration: 160. Loss: 1.5237823593932265. Accuracy: 97.0\n",
      "Iteration: 170. Loss: 1.5220372665101425. Accuracy: 99.5\n",
      "Iteration: 180. Loss: 1.5256764933638303. Accuracy: 99.0\n",
      "Iteration: 190. Loss: 1.522656050429243. Accuracy: 97.5\n",
      "Iteration: 200. Loss: 1.5150755207837248. Accuracy: 99.0\n",
      "Iteration: 210. Loss: 1.5125389292735771. Accuracy: 99.5\n",
      "Iteration: 220. Loss: 1.5101550674083462. Accuracy: 99.0\n",
      "Iteration: 230. Loss: 1.5014952025672035. Accuracy: 99.5\n",
      "Iteration: 240. Loss: 1.510394482479322. Accuracy: 99.5\n",
      "Iteration: 250. Loss: 1.5007194657489427. Accuracy: 99.5\n",
      "Iteration: 260. Loss: 1.4945581542398094. Accuracy: 99.5\n",
      "Iteration: 270. Loss: 1.5059500739496052. Accuracy: 100.0\n",
      "Iteration: 280. Loss: 1.5040481283266407. Accuracy: 100.0\n",
      "Iteration: 290. Loss: 1.5058094611247748. Accuracy: 98.5\n",
      "Iteration: 300. Loss: 1.5167214673267224. Accuracy: 99.0\n",
      "Iteration: 310. Loss: 1.510901834662062. Accuracy: 99.5\n",
      "Iteration: 320. Loss: 1.4972802707538544. Accuracy: 100.0\n",
      "Iteration: 330. Loss: 1.4989642637454006. Accuracy: 99.5\n",
      "Iteration: 340. Loss: 1.5041073894358774. Accuracy: 99.5\n",
      "Iteration: 350. Loss: 1.5001980794013248. Accuracy: 100.0\n",
      "Iteration: 360. Loss: 1.4925565092643973. Accuracy: 99.5\n",
      "Iteration: 370. Loss: 1.4997675019821821. Accuracy: 99.5\n",
      "Iteration: 380. Loss: 1.4962628454460405. Accuracy: 100.0\n",
      "Iteration: 390. Loss: 1.5104355655380786. Accuracy: 100.0\n",
      "Iteration: 400. Loss: 1.4991671520493803. Accuracy: 100.0\n",
      "Iteration: 410. Loss: 1.484149402749235. Accuracy: 100.0\n",
      "Iteration: 420. Loss: 1.4958044280781528. Accuracy: 99.5\n",
      "Iteration: 430. Loss: 1.4939694219785455. Accuracy: 100.0\n",
      "Iteration: 440. Loss: 1.4963913004436291. Accuracy: 100.0\n",
      "Iteration: 450. Loss: 1.4801717812859798. Accuracy: 99.5\n",
      "Iteration: 460. Loss: 1.4889162067029615. Accuracy: 99.5\n",
      "Iteration: 470. Loss: 1.4886117751528487. Accuracy: 99.5\n",
      "Iteration: 480. Loss: 1.4954378668126278. Accuracy: 99.0\n",
      "Iteration: 490. Loss: 1.4894795572740496. Accuracy: 99.0\n",
      "Iteration: 500. Loss: 1.4940738614140525. Accuracy: 99.5\n",
      "Iteration: 510. Loss: 1.4886579403207536. Accuracy: 99.5\n",
      "Iteration: 520. Loss: 1.5038497745094979. Accuracy: 100.0\n",
      "Iteration: 530. Loss: 1.4850021683098602. Accuracy: 99.5\n",
      "Iteration: 540. Loss: 1.4896874356652245. Accuracy: 100.0\n",
      "Iteration: 550. Loss: 1.4831676520660553. Accuracy: 100.0\n",
      "Iteration: 560. Loss: 1.4830560662816956. Accuracy: 100.0\n",
      "Iteration: 570. Loss: 1.4937917768308622. Accuracy: 100.0\n",
      "Iteration: 580. Loss: 1.483797232011905. Accuracy: 99.0\n",
      "Iteration: 590. Loss: 1.4866397320639344. Accuracy: 99.5\n",
      "Iteration: 600. Loss: 1.48907718963132. Accuracy: 100.0\n",
      "Iteration: 610. Loss: 1.4855267441033075. Accuracy: 100.0\n",
      "Iteration: 620. Loss: 1.4964824229091782. Accuracy: 100.0\n",
      "Iteration: 630. Loss: 1.4847308956318725. Accuracy: 99.5\n",
      "Iteration: 640. Loss: 1.4833841121321643. Accuracy: 100.0\n",
      "Iteration: 650. Loss: 1.4863073429757505. Accuracy: 100.0\n",
      "Iteration: 660. Loss: 1.4877853874619924. Accuracy: 99.5\n",
      "Iteration: 670. Loss: 1.483709476020374. Accuracy: 99.5\n"
     ]
    }
   ],
   "source": [
    "iter = 0\n",
    "loss_list = []\n",
    "for epoch in range(num_epochs):\n",
    "    losses = []\n",
    "    for i, (images, labels) in enumerate(train_loader):\n",
    "        # Load images\n",
    "        images = images.requires_grad_()\n",
    "\n",
    "        # Clear gradients w.r.t. parameters\n",
    "        optimizer.zero_grad()\n",
    "\n",
    "        # Forward pass to get output/logits\n",
    "        outputs = model(images)\n",
    "        # print(outputs)\n",
    "\n",
    "        # Calculate Loss: softmax --> cross entropy loss\n",
    "        loss = lossfn(outputs, labels)\n",
    "        losses.append(loss.item())\n",
    "\n",
    "        # Getting gradients w.r.t. parameters\n",
    "        loss.backward()\n",
    "\n",
    "        # Updating parameters\n",
    "        optimizer.step()\n",
    "\n",
    "        iter += 1\n",
    "\n",
    "        if iter % 10 == 0:\n",
    "            model.eval()\n",
    "            # Calculate Accuracy         \n",
    "            correct = 0\n",
    "            total = 0\n",
    "            # Iterate through test dataset\n",
    "            for images, labels in test_loader:\n",
    "                # Load images\n",
    "                images = images.requires_grad_()\n",
    "\n",
    "                # Forward pass only to get logits/output\n",
    "                outputs = model(images)\n",
    "\n",
    "                # Get predictions from the maximum value\n",
    "                _, predicted = torch.max(outputs.data, 1)\n",
    "\n",
    "                # Total number of labels\n",
    "                total += labels.size(0)\n",
    "                \n",
    "                # Total correct predictions\n",
    "                correct += (predicted == labels).sum()\n",
    "\n",
    "                # if accuracy > 90:\n",
    "                #     learning_rate /= 10\n",
    "                #     optimizer = torch.optim.Adam(model.parameters(), lr=learning_rate)\n",
    "            accuracy = 100 * correct / total\n",
    "            \n",
    "\n",
    "\n",
    "            # Print Loss\n",
    "            print('Iteration: {}. Loss: {}. Accuracy: {}'.format(iter, loss.item(), accuracy))\n",
    "            model.train()\n",
    "    mean_loss = sum(losses) / len(losses)\n",
    "    loss_list.append(mean_loss)\n",
    "    scheduler.step(mean_loss)\n"
   ]
  },
  {
   "cell_type": "code",
   "execution_count": null,
   "metadata": {},
   "outputs": [],
   "source": [
    "torch.save(model.state_dict(), \"./modelstate.pth\")"
   ]
  },
  {
   "cell_type": "code",
   "execution_count": null,
   "metadata": {},
   "outputs": [
    {
     "data": {
      "text/plain": [
       "Text(0, 0.5, 'Neg Log Likelihood Loss')"
      ]
     },
     "execution_count": 26,
     "metadata": {},
     "output_type": "execute_result"
    },
    {
     "data": {
      "image/png": "[encoded data removed]",
      "text/plain": [
       "<Figure size 640x480 with 1 Axes>"
      ]
     },
     "metadata": {},
     "output_type": "display_data"
    }
   ],
   "source": [
    "plt.plot(loss_list)\n",
    "plt.title('Hybrid NN Training Convergence')\n",
    "plt.xlabel('Training Epochs (x10)')\n",
    "plt.ylabel('Neg Log Likelihood Loss')"
   ]
  },
  {
   "cell_type": "markdown",
   "metadata": {},
   "source": [
    "### Evaluate model"
   ]
  },
  {
   "cell_type": "code",
   "execution_count": 11,
   "metadata": {},
   "outputs": [
    {
     "data": {
      "text/plain": [
       "<All keys matched successfully>"
      ]
     },
     "execution_count": 11,
     "metadata": {},
     "output_type": "execute_result"
    }
   ],
   "source": [
    "# Import the model if pre-trained\n",
    "model = CNNModel()\n",
    "lossfn = nn.CrossEntropyLoss()\n",
    "model.load_state_dict(torch.load(\"./models/Best974_Batch100_QNN.pth\"))"
   ]
  },
  {
   "cell_type": "code",
   "execution_count": 14,
   "metadata": {},
   "outputs": [
    {
     "name": "stdout",
     "output_type": "stream",
     "text": [
      "Accuracy: 99.0\n"
     ]
    }
   ],
   "source": [
    "model.eval()\n",
    "# Calculate Accuracy         \n",
    "correct = 0\n",
    "total = 0\n",
    "# Iterate through test dataset\n",
    "for images, labels in test_loader_full:\n",
    "    # Load images\n",
    "    images = images.requires_grad_()\n",
    "\n",
    "    # Forward pass only to get logits/output\n",
    "    outputs = model(images)\n",
    "\n",
    "    # Get predictions from the maximum value\n",
    "    _, predicted = torch.max(outputs.data, 1)\n",
    "\n",
    "    # Total number of labels\n",
    "    total += labels.size(0)\n",
    "\n",
    "    # Total correct predictions\n",
    "    correct += (predicted == labels).sum()\n",
    "\n",
    "accuracy = 100 * correct / total\n",
    "\n",
    "# Print Loss\n",
    "print(f'Accuracy is : {accuracy}')"
   ]
  },
  {
   "cell_type": "code",
   "execution_count": 23,
   "metadata": {},
   "outputs": [
    {
     "data": {
      "image/png": "[encoded data removed]",
      "text/plain": [
       "<Figure size 1000x300 with 7 Axes>"
      ]
     },
     "metadata": {},
     "output_type": "display_data"
    }
   ],
   "source": [
    "n_samples_show = 7\n",
    "count = 0\n",
    "fig, axes = plt.subplots(nrows=1, ncols=n_samples_show, figsize=(10, 3))\n",
    "\n",
    "model.eval()\n",
    "with torch.no_grad():\n",
    "    for data, target in train_loader:\n",
    "        if count == n_samples_show:\n",
    "            break\n",
    "        output = model(data[:4])\n",
    "        \n",
    "        _, predicted = torch.max(output.data, 1)\n",
    "        # print(predicted)\n",
    "        axes[count].imshow(data[3][0].numpy().squeeze(), cmap='gray')\n",
    "\n",
    "        axes[count].set_xticks([])\n",
    "        axes[count].set_yticks([])\n",
    "        axes[count].set_title('Predicted {}'.format(predicted[3].item()))\n",
    "        \n",
    "        count += 1"
   ]
  }
 ],
 "metadata": {
  "kernelspec": {
   "display_name": "Python 3",
   "language": "python",
   "name": "python3"
  },
  "language_info": {
   "codemirror_mode": {
    "name": "ipython",
    "version": 3
   },
   "file_extension": ".py",
   "mimetype": "text/x-python",
   "name": "python",
   "nbconvert_exporter": "python",
   "pygments_lexer": "ipython3",
   "version": "3.10.12"
  },
  "orig_nbformat": 4
 },
 "nbformat": 4,
 "nbformat_minor": 2
}
